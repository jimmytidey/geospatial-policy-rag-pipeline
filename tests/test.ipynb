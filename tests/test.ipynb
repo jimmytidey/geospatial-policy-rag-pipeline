{
 "cells": [
  {
   "cell_type": "code",
   "execution_count": 2,
   "metadata": {},
   "outputs": [
    {
     "name": "stdout",
     "output_type": "stream",
     "text": [
      "Loading file: ab_kettleby.geojson\n",
      "Loading file: local-authority-district.geojson\n",
      "All GeoJSON files have been loaded into geo_boundaries.\n",
      "GeoJSON data loaded successfully into geo_boundaries.\n"
     ]
    }
   ],
   "source": [
    "import os,sys\n",
    "from dotenv import load_dotenv\n",
    "parent_dir = os.path.dirname(os.getcwd())\n",
    "sys.path.append(parent_dir)\n",
    "from geo_boundaries import import_geo_boundaries\n",
    "\n",
    "load_dotenv()\n",
    "os.environ[\"DATABASE_URL\"] = os.environ[\"TEST_DATABASE_URL\"]\n",
    "import_geo_boundaries('files/geo_boundaries/')\n",
    "\n",
    "\n",
    "\n",
    "\n"
   ]
  },
  {
   "cell_type": "code",
   "execution_count": 3,
   "metadata": {},
   "outputs": [
    {
     "name": "stdout",
     "output_type": "stream",
     "text": [
      "3.1.0\n"
     ]
    }
   ],
   "source": [
    "import geojson\n",
    "print(geojson.__version__)"
   ]
  }
 ],
 "metadata": {
  "kernelspec": {
   "display_name": "venv",
   "language": "python",
   "name": "python3"
  },
  "language_info": {
   "codemirror_mode": {
    "name": "ipython",
    "version": 3
   },
   "file_extension": ".py",
   "mimetype": "text/x-python",
   "name": "python",
   "nbconvert_exporter": "python",
   "pygments_lexer": "ipython3",
   "version": "3.11.2"
  }
 },
 "nbformat": 4,
 "nbformat_minor": 2
}
