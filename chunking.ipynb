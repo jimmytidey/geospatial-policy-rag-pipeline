{
 "cells": [
  {
   "cell_type": "code",
   "execution_count": 1,
   "metadata": {},
   "outputs": [
    {
     "name": "stdout",
     "output_type": "stream",
     "text": [
      "PDF downloaded and saved as files/neighbourhood_plan-Walsham le Willows.pdf.\n",
      "PyMuPDF chunks created: 312 from files/neighbourhood_plan-Walsham le Willows.pdf\n",
      "Data successfully saved to files/pymupdf_chunks.csv\n",
      "Number of docs saving to db:  312\n"
     ]
    },
    {
     "ename": "KeyError",
     "evalue": "'DATABASE_URL'",
     "output_type": "error",
     "traceback": [
      "\u001b[0;31m---------------------------------------------------------------------------\u001b[0m",
      "\u001b[0;31mKeyError\u001b[0m                                  Traceback (most recent call last)",
      "Cell \u001b[0;32mIn[1], line 19\u001b[0m\n\u001b[1;32m     16\u001b[0m file_name \u001b[38;5;241m=\u001b[39m metadata[\u001b[38;5;124m\"\u001b[39m\u001b[38;5;124mcategory\u001b[39m\u001b[38;5;124m\"\u001b[39m] \u001b[38;5;241m+\u001b[39m \u001b[38;5;124m\"\u001b[39m\u001b[38;5;124m-\u001b[39m\u001b[38;5;124m\"\u001b[39m \u001b[38;5;241m+\u001b[39m metadata[\u001b[38;5;124m\"\u001b[39m\u001b[38;5;124mneighbourhood\u001b[39m\u001b[38;5;124m\"\u001b[39m] \u001b[38;5;241m+\u001b[39m \u001b[38;5;124m\"\u001b[39m\u001b[38;5;124m.pdf\u001b[39m\u001b[38;5;124m\"\u001b[39m\n\u001b[1;32m     17\u001b[0m metadata[\u001b[38;5;124m\"\u001b[39m\u001b[38;5;124mfile\u001b[39m\u001b[38;5;124m\"\u001b[39m] \u001b[38;5;241m=\u001b[39m file_name\n\u001b[0;32m---> 19\u001b[0m \u001b[43mchunk_pdf\u001b[49m\u001b[43m(\u001b[49m\u001b[43murl\u001b[49m\u001b[43m,\u001b[49m\u001b[43m \u001b[49m\u001b[43mfile_name\u001b[49m\u001b[43m,\u001b[49m\u001b[43m \u001b[49m\u001b[43mmetadata\u001b[49m\u001b[43m)\u001b[49m\n",
      "File \u001b[0;32m~/Projects/neighbourhood-plans-server/helpers.py:26\u001b[0m, in \u001b[0;36mchunk_pdf\u001b[0;34m(url, file_name, metadata)\u001b[0m\n\u001b[1;32m     24\u001b[0m pymupdf_chunks \u001b[38;5;241m=\u001b[39m pymupdf_chunk_pdf(file_name, metadata)\n\u001b[1;32m     25\u001b[0m save_chunks_to_csv(pymupdf_chunks, \u001b[38;5;124m\"\u001b[39m\u001b[38;5;124mpymupdf\u001b[39m\u001b[38;5;124m\"\u001b[39m)\n\u001b[0;32m---> 26\u001b[0m \u001b[43mchunks_csv_to_db\u001b[49m\u001b[43m(\u001b[49m\u001b[38;5;124;43m\"\u001b[39;49m\u001b[38;5;124;43mpymupdf\u001b[39;49m\u001b[38;5;124;43m\"\u001b[39;49m\u001b[43m)\u001b[49m\n\u001b[1;32m     28\u001b[0m \u001b[38;5;66;03m# sherpa chunking (by section)\u001b[39;00m\n\u001b[1;32m     29\u001b[0m split_pdf(file_name, \u001b[38;5;241m10\u001b[39m)\n",
      "File \u001b[0;32m~/Projects/neighbourhood-plans-server/helpers.py:127\u001b[0m, in \u001b[0;36mchunks_csv_to_db\u001b[0;34m(chunker)\u001b[0m\n\u001b[1;32m    124\u001b[0m     chunks\u001b[38;5;241m.\u001b[39mappend(chunk)\n\u001b[1;32m    126\u001b[0m \u001b[38;5;28mprint\u001b[39m(\u001b[38;5;124m'\u001b[39m\u001b[38;5;124mNumber of docs saving to db: \u001b[39m\u001b[38;5;124m'\u001b[39m, \u001b[38;5;28mlen\u001b[39m(chunks))\n\u001b[0;32m--> 127\u001b[0m connection \u001b[38;5;241m=\u001b[39m \u001b[43mos\u001b[49m\u001b[38;5;241;43m.\u001b[39;49m\u001b[43menviron\u001b[49m\u001b[43m[\u001b[49m\u001b[38;5;124;43m\"\u001b[39;49m\u001b[38;5;124;43mDATABASE_URL\u001b[39;49m\u001b[38;5;124;43m\"\u001b[39;49m\u001b[43m]\u001b[49m\n\u001b[1;32m    128\u001b[0m collection_name \u001b[38;5;241m=\u001b[39m \u001b[38;5;124m\"\u001b[39m\u001b[38;5;124mplanning\u001b[39m\u001b[38;5;124m\"\u001b[39m\n\u001b[1;32m    130\u001b[0m vectorstore \u001b[38;5;241m=\u001b[39m PGVector(\n\u001b[1;32m    131\u001b[0m     embeddings\u001b[38;5;241m=\u001b[39mOpenAIEmbeddings(model\u001b[38;5;241m=\u001b[39m\u001b[38;5;124m\"\u001b[39m\u001b[38;5;124mtext-embedding-ada-002\u001b[39m\u001b[38;5;124m\"\u001b[39m),\n\u001b[1;32m    132\u001b[0m     collection_name\u001b[38;5;241m=\u001b[39mcollection_name,\n\u001b[1;32m    133\u001b[0m     connection\u001b[38;5;241m=\u001b[39mconnection,\n\u001b[1;32m    134\u001b[0m     use_jsonb\u001b[38;5;241m=\u001b[39m\u001b[38;5;28;01mTrue\u001b[39;00m,\n\u001b[1;32m    135\u001b[0m )\n",
      "File \u001b[0;32m<frozen os>:679\u001b[0m, in \u001b[0;36m__getitem__\u001b[0;34m(self, key)\u001b[0m\n",
      "\u001b[0;31mKeyError\u001b[0m: 'DATABASE_URL'"
     ]
    }
   ],
   "source": [
    "from helpers import chunk_pdf\n",
    "\n",
    "# Use this notebook to embed PDFs\n",
    "# Metadata can contain any fields of your choosing.\n",
    "\n",
    "url = \"https://www.midsuffolk.gov.uk/documents/d/mid-suffolk/walshamlewillows_np_ref_version_nov23\"\n",
    "metadata = {\n",
    "    \"category\": \"neighbourhood_plan\",\n",
    "    \"lpa\": \"Mid Suffolk District Council\",\n",
    "    \"council type\": \"District Council\",\n",
    "    \"neighbourhood\": \"Walsham le Willows\",\n",
    "    \"title\": \"Walsham le Willow Neighbourhood Plan – 2023 – 2037\",\n",
    "    \"url\": url,\n",
    "}\n",
    "\n",
    "file_name = metadata[\"category\"] + \"-\" + metadata[\"neighbourhood\"] + \".pdf\"\n",
    "metadata[\"file\"] = file_name\n",
    "\n",
    "chunk_pdf(url, file_name, metadata)"
   ]
  }
 ],
 "metadata": {
  "kernelspec": {
   "display_name": "venv",
   "language": "python",
   "name": "python3"
  },
  "language_info": {
   "codemirror_mode": {
    "name": "ipython",
    "version": 3
   },
   "file_extension": ".py",
   "mimetype": "text/x-python",
   "name": "python",
   "nbconvert_exporter": "python",
   "pygments_lexer": "ipython3",
   "version": "3.11.2"
  }
 },
 "nbformat": 4,
 "nbformat_minor": 2
}
