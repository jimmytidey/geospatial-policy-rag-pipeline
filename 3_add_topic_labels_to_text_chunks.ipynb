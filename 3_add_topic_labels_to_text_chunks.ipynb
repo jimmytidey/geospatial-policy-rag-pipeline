{
 "cells": [
  {
   "cell_type": "code",
   "execution_count": null,
   "metadata": {},
   "outputs": [
    {
     "name": "stdout",
     "output_type": "stream",
     "text": [
      "Number of records without 'openai_labels': 0\n"
     ]
    }
   ],
   "source": [
    "from data_pipeline.add_topic_labels.topic_labels_extract import topic_labels_extract\n",
    "from data_pipeline.add_topic_labels.topic_labels_transform import topic_labels_transform\n",
    "from data_pipeline.add_topic_labels.topic_labels_load import topic_labels_load\n",
    "\n",
    "records = topic_labels_extract(1000)\n",
    "\n",
    "for index, record in enumerate(records):\n",
    "    id = record[0]\n",
    "    title = record[3]\n",
    "    text = record[4]\n",
    "    \n",
    "    labels = topic_labels_transform(title, text)\n",
    "    print(\"***********\"*10)\n",
    "    print('title: ', title)\n",
    "    print('text: ', text)\n",
    "    \n",
    "    topic_labels_load(id, labels, 'openai_labels')\n",
    "    print(\"Record \" + str(index) + \" loaded.\")\n",
    "    \n",
    "\n",
    "\n",
    "    "
   ]
  }
 ],
 "metadata": {
  "kernelspec": {
   "display_name": "venv",
   "language": "python",
   "name": "python3"
  },
  "language_info": {
   "codemirror_mode": {
    "name": "ipython",
    "version": 3
   },
   "file_extension": ".py",
   "mimetype": "text/x-python",
   "name": "python",
   "nbconvert_exporter": "python",
   "pygments_lexer": "ipython3",
   "version": "3.11.2"
  }
 },
 "nbformat": 4,
 "nbformat_minor": 2
}
