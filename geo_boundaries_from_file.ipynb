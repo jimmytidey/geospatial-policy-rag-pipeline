{
 "cells": [
  {
   "cell_type": "code",
   "execution_count": null,
   "metadata": {},
   "outputs": [
    {
     "name": "stdout",
     "output_type": "stream",
     "text": [
      "Fetched GeoJSON data from URL\n"
     ]
    }
   ],
   "source": [
    "import json\n",
    "from postgres import Postgres\n",
    "\n",
    "pg = Postgres()\n",
    "\n",
    "# Fetch GeoJSON data from URL\n",
    "with open('files/geo_boundaries/leeds_outer_west.geojson', 'r') as file:\n",
    "    geojson_data = json.load(file)\n",
    "\n",
    "geometry_json = json.dumps(geojson_data)\n",
    "print(\"Fetched GeoJSON data from URL\")\n",
    "name=\"Leeds Outer West\"\n",
    "insert_query = \"\"\"\n",
    "INSERT INTO geo_boundaries (name, geom)\n",
    "VALUES (%s, ST_GeomFromGeoJSON(%s))\n",
    "\"\"\"\n",
    "pg.insert(insert_query, (name, geometry_json))\n",
    "\n",
    "\n",
    "\n"
   ]
  }
 ],
 "metadata": {
  "kernelspec": {
   "display_name": "venv",
   "language": "python",
   "name": "python3"
  },
  "language_info": {
   "codemirror_mode": {
    "name": "ipython",
    "version": 3
   },
   "file_extension": ".py",
   "mimetype": "text/x-python",
   "name": "python",
   "nbconvert_exporter": "python",
   "pygments_lexer": "ipython3",
   "version": "3.11.2"
  }
 },
 "nbformat": 4,
 "nbformat_minor": 2
}
