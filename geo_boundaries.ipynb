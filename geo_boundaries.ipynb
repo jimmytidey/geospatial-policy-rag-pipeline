{
 "cells": [
  {
   "cell_type": "code",
   "execution_count": null,
   "metadata": {},
   "outputs": [
    {
     "name": "stdout",
     "output_type": "stream",
     "text": [
      "Loading file: alwoodly.geojson\n",
      "All GeoJSON files have been loaded into geo_boundaries.\n",
      "GeoJSON data loaded successfully into geo_boundaries.\n"
     ]
    }
   ],
   "source": [
    "import os\n",
    "import json\n",
    "import geojson \n",
    "from postgres import Postgres  \n",
    "\n",
    "def create_geo_boundaries_table(): \n",
    "    pg = Postgres()  # Create a new database connection\n",
    "    create_table_query = \"\"\"\n",
    "        CREATE EXTENSION IF NOT EXISTS postgis;\n",
    "        CREATE TABLE IF NOT EXISTS geo_boundaries (\n",
    "            id SERIAL PRIMARY KEY,\n",
    "            name TEXT,\n",
    "            properties JSONB,\n",
    "            geom GEOMETRY(Geometry, 4326)\n",
    "        );\n",
    "    \"\"\"\n",
    "    pg.insert(create_table_query)\n",
    "   \n",
    "# Step 2: Load a single GeoJSON file into the database\n",
    "\n",
    "\n",
    "# Step 3: Loop through all GeoJSON files in the folder\n",
    "def load_all_geojson_files(geo_boundaries_folder):\n",
    "    # Iterate over each file in the geojson_folder\n",
    "    for filename in os.listdir(geo_boundaries_folder):\n",
    "        if filename.endswith(\".geojson\"):\n",
    "            file_path = os.path.join(geo_boundaries_folder, filename)\n",
    "            print(f\"Loading file: {filename}\")\n",
    "            load_geojson_file(file_path)\n",
    "    print(\"All GeoJSON files have been loaded into geo_boundaries.\")\n",
    "\n",
    "# Run the functions\n",
    "def import_geo_boundaries(geo_boundaries_folder):\n",
    "    load_all_geojson_files(geo_boundaries_folder)\n",
    "    print(\"GeoJSON data loaded successfully into geo_boundaries.\")\n",
    "\n",
    "import_geo_boundaries('files/geo_boundaries/')  # Replace with your actual folder path\n"
   ]
  }
 ],
 "metadata": {
  "kernelspec": {
   "display_name": "venv",
   "language": "python",
   "name": "python3"
  },
  "language_info": {
   "codemirror_mode": {
    "name": "ipython",
    "version": 3
   },
   "file_extension": ".py",
   "mimetype": "text/x-python",
   "name": "python",
   "nbconvert_exporter": "python",
   "pygments_lexer": "ipython3",
   "version": "3.11.2"
  }
 },
 "nbformat": 4,
 "nbformat_minor": 2
}
