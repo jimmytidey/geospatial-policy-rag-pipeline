{
 "cells": [
  {
   "cell_type": "code",
   "execution_count": 1,
   "metadata": {},
   "outputs": [],
   "source": [
    "import psycopg2\n",
    "import json\n",
    "import os \n",
    "import re\n",
    "# Connect to your PostgreSQL database\n",
    "DATABASE_URL = os.environ[\"DATABASE_URL\"]\n",
    "conn = psycopg2.connect(DATABASE_URL, sslmode=\"require\")\n",
    "\n",
    "# Create a cursor object\n",
    "cur = conn.cursor()\n",
    "\n",
    "# Fetch rows where openai_labels exists\n",
    "cur.execute(\"SELECT id, cmetadata->>'openai_labels' FROM langchain_pg_embedding WHERE cmetadata ? 'openai_labels';\")\n",
    "rows = cur.fetchall()\n",
    "\n",
    "# Process each row and update the openai_labels_json field\n",
    "for row in rows:\n",
    "    row_id = row[0]\n",
    "    openai_labels_str = row[1]\n",
    "    \n",
    "    # Remove surrounding square brackets and split on commas with or without space\n",
    "    labels_list = re.split(r',\\s*', openai_labels_str.strip('[]'))\n",
    "    \n",
    "    # Remove any double quotes and spaces within the labels\n",
    "    cleaned_labels_list = [label.replace('\"', '').replace(' ', '').strip() for label in labels_list]\n",
    "\n",
    "    # Convert the list into a proper JSON array\n",
    "    openai_labels_json = json.dumps(cleaned_labels_list)\n",
    "\n",
    "    # Update the table with the new JSON array in the 'openai_labels_json' field\n",
    "    cur.execute(\"\"\"\n",
    "        UPDATE langchain_pg_embedding\n",
    "        SET cmetadata = jsonb_set(cmetadata, '{openai_labels_json_6}', %s::jsonb)\n",
    "        WHERE id = %s;\n",
    "    \"\"\", (openai_labels_json, row_id))\n",
    "\n",
    "# Commit the changes to the database\n",
    "conn.commit()\n",
    "\n",
    "# Close the cursor and connection\n",
    "cur.close()\n",
    "conn.close()"
   ]
  }
 ],
 "metadata": {
  "kernelspec": {
   "display_name": "venv",
   "language": "python",
   "name": "python3"
  },
  "language_info": {
   "codemirror_mode": {
    "name": "ipython",
    "version": 3
   },
   "file_extension": ".py",
   "mimetype": "text/x-python",
   "name": "python",
   "nbconvert_exporter": "python",
   "pygments_lexer": "ipython3",
   "version": "3.11.2"
  }
 },
 "nbformat": 4,
 "nbformat_minor": 2
}
