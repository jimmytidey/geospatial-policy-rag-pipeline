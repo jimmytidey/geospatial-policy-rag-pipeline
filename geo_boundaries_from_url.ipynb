{
 "cells": [
  {
   "cell_type": "code",
   "execution_count": 25,
   "metadata": {},
   "outputs": [
    {
     "name": "stdout",
     "output_type": "stream",
     "text": [
      "Fetched GeoJSON data from URL\n"
     ]
    }
   ],
   "source": [
    "import requests\n",
    "import json\n",
    "import psycopg2\n",
    "from postgres import Postgres\n",
    "\n",
    "pg = Postgres()\n",
    "\n",
    "# Fetch GeoJSON data from URL\n",
    "url = \"https://mapit.mysociety.org/area/151958.geojson\"\n",
    "response = requests.get(url)\n",
    "geojson_data = response.json()\n",
    "geometry_json = json.dumps(geojson_data)  # Convert the dictionary to a JSON string\n",
    "\n",
    "print(\"Fetched GeoJSON data from URL\")\n",
    "name=\"Wetherby\"\n",
    "insert_query = \"\"\"\n",
    "INSERT INTO geo_boundaries (name, geom)\n",
    "VALUES (%s, ST_GeomFromGeoJSON(%s))\n",
    "\"\"\"\n",
    "pg.insert(insert_query, (name, geometry_json))\n",
    "\n",
    "\n",
    "\n"
   ]
  }
 ],
 "metadata": {
  "kernelspec": {
   "display_name": "venv",
   "language": "python",
   "name": "python3"
  },
  "language_info": {
   "codemirror_mode": {
    "name": "ipython",
    "version": 3
   },
   "file_extension": ".py",
   "mimetype": "text/x-python",
   "name": "python",
   "nbconvert_exporter": "python",
   "pygments_lexer": "ipython3",
   "version": "3.11.2"
  }
 },
 "nbformat": 4,
 "nbformat_minor": 2
}
