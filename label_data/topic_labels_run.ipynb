{
 "cells": [
  {
   "cell_type": "code",
   "execution_count": 3,
   "metadata": {},
   "outputs": [
    {
     "name": "stdout",
     "output_type": "stream",
     "text": [
      "**************************************************************************************************************\n",
      "title:  SECTION 1: INTRODUCTION > 1.4 POLICY CONTEXT > Leeds Unitary Development Plan (UDP) (2006) Saved Policies\n",
      "text:   1.4.16 Some policies of the Leeds UDP have remained ‘saved’ following adoption of the Core Strategy to ensure comprehensive policy coverage and to determine planning applications.\n",
      "A schedule of UDP Saved Policies is included in Appendix 1 of the Core Strategy for reference.\n",
      "The AVLAAP replaces a number of area-specific UDP saved policies, allocations and designations.\n",
      "A schedule of UDP saved policies deleted at adoption of the AAP is set out in Appendix 1.\n",
      "Other UDP saved policies will be deleted on adoption of emerging and future development plan documents. \n",
      "Labels ['context', 'policy', 'annex'] with openai_labels added to record with ID 78da7085-a5d1-4b57-8e65-49a81ea68ce5.\n",
      "**************************************************************************************************************\n",
      "title:  Ye ad on > YE A D O N > Jo ffr e M ou nt > Th e > RUFFORD AVENUE > P on d\n",
      "text:   Q ua rr y M ou nt   E l 3329 to 7 43   2b \n",
      "Labels ['broken_fragment', 'materials'] with openai_labels added to record with ID f9cabdf6-80f3-43ef-a28b-7450eb08236e.\n",
      "**************************************************************************************************************\n",
      "title:  HG2-6 (1113) > Site Area: > Silverdale Avenue (land at), Guiseley\n",
      "text:   32 units 1.98 hectares   Guiseley and RawdonWard:   AireboroughHMCA: \n",
      "Labels ['bad_start', 'truncated', 'house_building'] with openai_labels added to record with ID 4e8ef0e4-4c77-492c-9757-4d95c9a1f8fe.\n",
      "**************************************************************************************************************\n",
      "title:  Ye ad on > TO W N H A LL\n",
      "text:   P os ts \n"
     ]
    },
    {
     "ename": "KeyboardInterrupt",
     "evalue": "",
     "output_type": "error",
     "traceback": [
      "\u001b[0;31m---------------------------------------------------------------------------\u001b[0m",
      "\u001b[0;31mKeyboardInterrupt\u001b[0m                         Traceback (most recent call last)",
      "Cell \u001b[0;32mIn[3], line 22\u001b[0m\n\u001b[1;32m     19\u001b[0m \u001b[38;5;28mprint\u001b[39m(\u001b[38;5;124m'\u001b[39m\u001b[38;5;124mtitle: \u001b[39m\u001b[38;5;124m'\u001b[39m, title)\n\u001b[1;32m     20\u001b[0m \u001b[38;5;28mprint\u001b[39m(\u001b[38;5;124m'\u001b[39m\u001b[38;5;124mtext: \u001b[39m\u001b[38;5;124m'\u001b[39m, text)\n\u001b[0;32m---> 22\u001b[0m \u001b[43mtopic_labels_load\u001b[49m\u001b[43m(\u001b[49m\u001b[38;5;28;43mid\u001b[39;49m\u001b[43m,\u001b[49m\u001b[43m \u001b[49m\u001b[43mlabels\u001b[49m\u001b[43m,\u001b[49m\u001b[43m \u001b[49m\u001b[38;5;124;43m'\u001b[39;49m\u001b[38;5;124;43mopenai_labels\u001b[39;49m\u001b[38;5;124;43m'\u001b[39;49m\u001b[43m)\u001b[49m\n",
      "File \u001b[0;32m~/Projects/localplans-data-processing/label/topic_labels_load.py:16\u001b[0m, in \u001b[0;36mtopic_labels_load\u001b[0;34m(record_id, labels, label_type)\u001b[0m\n\u001b[1;32m      7\u001b[0m \u001b[38;5;28;01mdef\u001b[39;00m \u001b[38;5;21mtopic_labels_load\u001b[39m(record_id, labels, label_type):\n\u001b[1;32m      8\u001b[0m \u001b[38;5;250m    \u001b[39m\u001b[38;5;124;03m\"\"\"\u001b[39;00m\n\u001b[1;32m      9\u001b[0m \u001b[38;5;124;03m    Adds an array of labels to the 'labels' key in the cmetadata JSON column for a given record.\u001b[39;00m\n\u001b[1;32m     10\u001b[0m \u001b[38;5;124;03m    If the 'labels' key does not exist, it will create it and add the new labels.\u001b[39;00m\n\u001b[0;32m   (...)\u001b[0m\n\u001b[1;32m     13\u001b[0m \u001b[38;5;124;03m    :param labels: A list of labels (Python array) to add\u001b[39;00m\n\u001b[1;32m     14\u001b[0m \u001b[38;5;124;03m    \"\"\"\u001b[39;00m\n\u001b[0;32m---> 16\u001b[0m     pg\u001b[38;5;241m=\u001b[39m\u001b[43mPostgres\u001b[49m\u001b[43m(\u001b[49m\u001b[43m)\u001b[49m\n\u001b[1;32m     18\u001b[0m     \u001b[38;5;28;01mtry\u001b[39;00m:\n\u001b[1;32m     19\u001b[0m         \u001b[38;5;28;01mwith\u001b[39;00m pg\u001b[38;5;241m.\u001b[39mconn\u001b[38;5;241m.\u001b[39mcursor() \u001b[38;5;28;01mas\u001b[39;00m cursor:\n\u001b[1;32m     20\u001b[0m             \u001b[38;5;66;03m# Convert the Python list to a JSON array string\u001b[39;00m\n",
      "File \u001b[0;32m~/Projects/localplans-data-processing/postgres.py:12\u001b[0m, in \u001b[0;36mPostgres.__init__\u001b[0;34m(self)\u001b[0m\n\u001b[1;32m     10\u001b[0m \u001b[38;5;28;01mtry\u001b[39;00m:\n\u001b[1;32m     11\u001b[0m     DATABASE_URL \u001b[38;5;241m=\u001b[39m os\u001b[38;5;241m.\u001b[39menviron[\u001b[38;5;124m\"\u001b[39m\u001b[38;5;124mDATABASE_URL\u001b[39m\u001b[38;5;124m\"\u001b[39m]\n\u001b[0;32m---> 12\u001b[0m     \u001b[38;5;28mself\u001b[39m\u001b[38;5;241m.\u001b[39mconn \u001b[38;5;241m=\u001b[39m \u001b[43mpsycopg2\u001b[49m\u001b[38;5;241;43m.\u001b[39;49m\u001b[43mconnect\u001b[49m\u001b[43m(\u001b[49m\u001b[43mDATABASE_URL\u001b[49m\u001b[43m,\u001b[49m\u001b[43m \u001b[49m\u001b[43msslmode\u001b[49m\u001b[38;5;241;43m=\u001b[39;49m\u001b[38;5;124;43m\"\u001b[39;49m\u001b[38;5;124;43mrequire\u001b[39;49m\u001b[38;5;124;43m\"\u001b[39;49m\u001b[43m)\u001b[49m\n\u001b[1;32m     14\u001b[0m \u001b[38;5;28;01mexcept\u001b[39;00m psycopg2\u001b[38;5;241m.\u001b[39mError \u001b[38;5;28;01mas\u001b[39;00m e:\n\u001b[1;32m     15\u001b[0m     \u001b[38;5;28mprint\u001b[39m(\u001b[38;5;124m\"\u001b[39m\u001b[38;5;124mError:\u001b[39m\u001b[38;5;124m\"\u001b[39m, e)\n",
      "File \u001b[0;32m~/Projects/localplans-data-processing/venv/lib/python3.11/site-packages/psycopg2/__init__.py:122\u001b[0m, in \u001b[0;36mconnect\u001b[0;34m(dsn, connection_factory, cursor_factory, **kwargs)\u001b[0m\n\u001b[1;32m    119\u001b[0m     kwasync[\u001b[38;5;124m'\u001b[39m\u001b[38;5;124masync_\u001b[39m\u001b[38;5;124m'\u001b[39m] \u001b[38;5;241m=\u001b[39m kwargs\u001b[38;5;241m.\u001b[39mpop(\u001b[38;5;124m'\u001b[39m\u001b[38;5;124masync_\u001b[39m\u001b[38;5;124m'\u001b[39m)\n\u001b[1;32m    121\u001b[0m dsn \u001b[38;5;241m=\u001b[39m _ext\u001b[38;5;241m.\u001b[39mmake_dsn(dsn, \u001b[38;5;241m*\u001b[39m\u001b[38;5;241m*\u001b[39mkwargs)\n\u001b[0;32m--> 122\u001b[0m conn \u001b[38;5;241m=\u001b[39m \u001b[43m_connect\u001b[49m\u001b[43m(\u001b[49m\u001b[43mdsn\u001b[49m\u001b[43m,\u001b[49m\u001b[43m \u001b[49m\u001b[43mconnection_factory\u001b[49m\u001b[38;5;241;43m=\u001b[39;49m\u001b[43mconnection_factory\u001b[49m\u001b[43m,\u001b[49m\u001b[43m \u001b[49m\u001b[38;5;241;43m*\u001b[39;49m\u001b[38;5;241;43m*\u001b[39;49m\u001b[43mkwasync\u001b[49m\u001b[43m)\u001b[49m\n\u001b[1;32m    123\u001b[0m \u001b[38;5;28;01mif\u001b[39;00m cursor_factory \u001b[38;5;129;01mis\u001b[39;00m \u001b[38;5;129;01mnot\u001b[39;00m \u001b[38;5;28;01mNone\u001b[39;00m:\n\u001b[1;32m    124\u001b[0m     conn\u001b[38;5;241m.\u001b[39mcursor_factory \u001b[38;5;241m=\u001b[39m cursor_factory\n",
      "\u001b[0;31mKeyboardInterrupt\u001b[0m: "
     ]
    }
   ],
   "source": [
    "import sys,os\n",
    "from topic_labels_extract import topic_labels_extract\n",
    "from topic_labels_transform import topic_labels_transform\n",
    "from topic_labels_load import topic_labels_load\n",
    "\n",
    "sys.path.append(os.path.dirname(os.getcwd()))\n",
    "\n",
    "from postgres import Postgres \n",
    "\n",
    "records = topic_labels_extract(10)\n",
    "\n",
    "for record in records:\n",
    "    id = record[0]\n",
    "    title = record[3]\n",
    "    text = record[4]\n",
    "    \n",
    "    labels = topic_labels_transform(title, text)\n",
    "    print(\"***********\"*10)\n",
    "    print('title: ', title)\n",
    "    print('text: ', text)\n",
    "    \n",
    "    topic_labels_load(id, labels, 'openai_labels')\n",
    "\n",
    "\n",
    "    "
   ]
  }
 ],
 "metadata": {
  "kernelspec": {
   "display_name": "venv",
   "language": "python",
   "name": "python3"
  },
  "language_info": {
   "codemirror_mode": {
    "name": "ipython",
    "version": 3
   },
   "file_extension": ".py",
   "mimetype": "text/x-python",
   "name": "python",
   "nbconvert_exporter": "python",
   "pygments_lexer": "ipython3",
   "version": "3.11.2"
  }
 },
 "nbformat": 4,
 "nbformat_minor": 2
}
