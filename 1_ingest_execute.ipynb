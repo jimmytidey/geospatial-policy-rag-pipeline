{
 "cells": [
  {
   "cell_type": "code",
   "execution_count": 1,
   "metadata": {},
   "outputs": [
    {
     "name": "stdout",
     "output_type": "stream",
     "text": [
      "PDF downloaded and saved as files/pdfs/local_plan_Newham_054d94c01ff839979695adc834909992.pdf.\n",
      "Deleting any old temp files\n",
      "total pages:  1\n",
      "Saving pages 1 to 1 to a new PDF\n",
      "***Output filename: files/temp/1.pdf\n",
      "Write permission is granted for: files/temp\n",
      "PDF split into segments of 10 pages in 'files/temp'\n",
      "Embedding files:  ['files/temp/1.pdf']\n",
      "splitting and embedding file: files/temp/1.pdf\n",
      "\n",
      "Sending files/temp/1.pdf to API\n",
      "files/temp/1.pdf analysed successfully\n",
      "Sherpa chunks created: 9 from files/temp/1.pdf\n",
      "9 chunks added from files/temp/1.pdf \n",
      "Section information inferred from previous chunk  The Local Plan and the associated Integrated Impact Assessment (incorporating Sustainability Appraisal) are available to view on the Council’s website: \n",
      "Section information inferred from previous chunk  https://www.newham.gov.uk/Pages/Services/Local-plan.aspx?l1=100006&l2=200074 \n",
      "Section information inferred from previous chunk  Paper copies of the Local Plan and associated documents (including the Integrated Impact Assessment incorporating Sustainability Appraisal) are available to view at East Ham Customer Service Centre (328 Barking Road, E6 2RT – check for opening times) and by appointment only at Newham Dockside (1000 Dockside Road, E16 2QU – please call 0203 373 8300 between 9 and 12, Monday to Friday to arrange).\n",
      "Alternatively, public internet access is available at all Newham libraries. \n",
      "Section information inferred from previous chunk  The Local Plan was the subject of an Independent Examination conducted by an Inspector appointed by the Secretary of State.\n",
      "The Inspector’s Report was published in November 2018 and the recommended Main Modifications and associated Minor Modifications have been included in the adopted document which now carries full weight in the consideration of planning applications.\n",
      "The Inspector’s Report containing a Schedule of Main Modifications can also be viewed on the Council’s website. \n",
      "Section information inferred from previous chunk  Any person who is aggrieved by the adoption of the Local Plan may make an application to the High Court under section 113 of the Planning & Compulsory Purchase Act 2004, on the grounds that the document is not within the appropriate powers conferred by Part 2 of the Planning and Compulsory Purchase Act 2004 and/or a procedural requirement of the Act or its associated Regulations has not been complied with. \n",
      "Section information inferred from previous chunk  Any such application must be made promptly, and no later than the end of the six week challenge period, starting with the date on which the Plan was adopted (10th December 2018). \n",
      "Section information inferred from previous chunk  For further information please refer to the Council’s website: www.newham.gov.uk.\n",
      "Alternatively, contact the Planning Policy team by emailing localplan@newham.gov.uk \n",
      "Document with id 054d94c01ff839979695adc834909992 already exists\n"
     ]
    }
   ],
   "source": [
    "from data_pipeline.ingest_pdf.text_extract import validate_metadata, download_pdf, split_pdf, sherpa_chunk_pdfs\n",
    "from data_pipeline.ingest_pdf.text_transform import sherpa_fill_in_sections, sherpa_coalesce_sections, embed\n",
    "from data_pipeline.ingest_pdf.text_load import create_document, save_chunks_to_db \n",
    "import pprint\n",
    "# Use this notebook to save PDFS to the data base\n",
    "# (PDFs will also be saved to the files/pdfs folder)\n",
    "\n",
    "url = \"https://www.newham.gov.uk/downloads/file/1031/adoptionstatementlocalplan\"\n",
    "metadata = {\n",
    "    \"category\": \"local_plan\",\n",
    "    \"sub_category\": \"\",\n",
    "    \"lpa\": \"Newham\",\n",
    "    \"council_type\": \"London Borough Council\",\n",
    "    \"title\": \"Newham Local Plan\",\n",
    "    \"neighbourhood\": \"\",\n",
    "    \"start_year\": 2018,\n",
    "    \"end_year\": 2033,\n",
    "    \"url\": url,\n",
    "    \"experiment\": \"newham\",\n",
    "    \"notes\":\"\",\n",
    "    'lat':51.53292917857738,\n",
    "    'lng':0.05552557792050555,\n",
    "}\n",
    "\n",
    "metadata = validate_metadata(metadata)\n",
    "\n",
    "# download the pdf\n",
    "[file_path, file_name, document_id] = download_pdf(url,metadata)\n",
    "metadata['file'] = file_name\n",
    "\n",
    "# sherpa chunking (by section)\n",
    "split_pdf(file_path, 10)\n",
    "sherpa_chunks = sherpa_chunk_pdfs(metadata)\n",
    "sherpa_chunks = sherpa_fill_in_sections(sherpa_chunks)\n",
    "sherpa_chunks = sherpa_coalesce_sections(sherpa_chunks)\n",
    "sherpa_chunks = embed(sherpa_chunks)\n",
    "\n",
    "create_document(sherpa_chunks[0], document_id) # create a record to describe the document \n",
    "save_chunks_to_db(sherpa_chunks, document_id)\n",
    "\n",
    "\n",
    "    \n",
    "\n"
   ]
  }
 ],
 "metadata": {
  "kernelspec": {
   "display_name": "venv",
   "language": "python",
   "name": "python3"
  },
  "language_info": {
   "codemirror_mode": {
    "name": "ipython",
    "version": 3
   },
   "file_extension": ".py",
   "mimetype": "text/x-python",
   "name": "python",
   "nbconvert_exporter": "python",
   "pygments_lexer": "ipython3",
   "version": "3.11.2"
  }
 },
 "nbformat": 4,
 "nbformat_minor": 2
}
