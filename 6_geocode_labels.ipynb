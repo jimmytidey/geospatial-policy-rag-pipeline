{
 "cells": [
  {
   "cell_type": "code",
   "execution_count": 1,
   "metadata": {},
   "outputs": [
    {
     "name": "stdout",
     "output_type": "stream",
     "text": [
      "Total chunks ungeocoded: [[5096]]\n",
      "['Morley', 'Troy Hill', 'Schofield']\n",
      "Found location inside boundary: {'location_name': 'Leeds, Morley', 'lat': 53.744513, 'lng': -1.598045, 'formatted_address': 'Morley, UK', 'location_type': 'inside_boundary'}\n",
      "Warning: No matching location found within or near boundary for Troy Hill\n",
      "Warning: No matching location found within or near boundary for Schofield\n",
      "['Aire Valley', 'St. Margaret’S Church', 'Fraser Avenue', 'Hall Park']\n",
      "Found location inside boundary: {'location_name': 'Leeds\\n, Horsforth, Aire Valley', 'lat': 53.84190299999999, 'lng': -1.6357606, 'formatted_address': '22 Long Row, Chambers, Horsforth, Leeds LS18 5AA, UK', 'location_type': 'inside_boundary'}\n",
      "Found location inside boundary: {'location_name': 'Leeds\\n, Horsforth, St. Margaret’S Church', 'lat': 53.8442091, 'lng': -1.6385359, 'formatted_address': \"St Margaret's Dr, Horsforth, Leeds LS18, UK\", 'location_type': 'inside_boundary'}\n",
      "Found location inside boundary: {'location_name': 'Leeds\\n, Fraser Avenue', 'lat': 53.8356355, 'lng': -1.6517975, 'formatted_address': 'Fraser Ave, Horsforth, Leeds LS18, UK', 'location_type': 'inside_boundary'}\n",
      "Found location inside boundary: {'location_name': 'Leeds\\n, Horsforth, Hall Park', 'lat': 53.840426, 'lng': -1.6453373, 'formatted_address': 'Hall Park Garth, Horsforth, Leeds LS18, UK', 'location_type': 'inside_boundary'}\n",
      "['Dewsbury Road', 'Leeds', 'Beeston And Holbeck Ward']\n",
      "Found location inside boundary: {'location_name': 'Leeds, Dewsbury Road', 'lat': 53.7628181, 'lng': -1.5653733, 'formatted_address': 'Dewsbury Rd, Leeds, UK', 'location_type': 'inside_boundary'}\n",
      "Warning: No matching location found within or near boundary for Leeds\n",
      "Found location inside boundary: {'location_name': 'Leeds, Beeston And Holbeck Ward', 'lat': 53.7732474, 'lng': -1.5653164, 'formatted_address': 'Beeston, Leeds LS11, UK', 'location_type': 'inside_boundary'}\n",
      "['A650', 'Bridge St', 'Rein Rd', 'M62 Junction 28 Tingley']\n",
      "Warning: No matching location found within or near boundary for A650\n",
      "Warning: No matching location found within or near boundary for Bridge St\n",
      "Found location inside boundary: {'location_name': 'Leeds, Rein Rd', 'lat': 53.7306954, 'lng': -1.5890896, 'formatted_address': 'Rein Rd, United Kingdom', 'location_type': 'inside_boundary'}\n",
      "Found location inside boundary: {'location_name': 'Leeds, M62 Junction 28 Tingley', 'lat': 53.7328768, 'lng': -1.5823829, 'formatted_address': 'M62, Tingley, UK', 'location_type': 'inside_boundary'}\n",
      "['Hollin Park Parade', 'Hollin Hill Drive', 'Lawrence Gardens', 'Lawrence Crescent']\n",
      "Found nearest location 457m from boundary: {'location_name': 'Leeds, Hollin Park Parade', 'lat': 53.8225398, 'lng': -1.4917347, 'formatted_address': 'Hollin Park Mount, Leeds LS8, UK', 'distance_to_boundary': 456.7650212964241, 'location_type': 'near_boundary'}\n",
      "Found nearest location 375m from boundary: {'location_name': 'Leeds, Hollin Hill Drive', 'lat': 53.8226606, 'lng': -1.4957557, 'formatted_address': 'Hollin Hill Dr, Roundhay, Leeds LS8, UK', 'distance_to_boundary': 375.2385371405616, 'location_type': 'near_boundary'}\n",
      "Found nearest location 665m from boundary: {'location_name': 'Leeds, Lawrence Gardens', 'lat': 53.8199448, 'lng': -1.4962177, 'formatted_address': 'Lawrence Gardens, Leeds LS8, UK', 'distance_to_boundary': 665.299816214025, 'location_type': 'near_boundary'}\n",
      "Found nearest location 692m from boundary: {'location_name': 'Leeds, Lawrence Crescent', 'lat': 53.8193864, 'lng': -1.4982531, 'formatted_address': 'Lawrence Cres, Leeds LS8, UK', 'distance_to_boundary': 691.9921866447035, 'location_type': 'near_boundary'}\n",
      "['Kippax']\n",
      "Found location inside boundary: {'location_name': 'Leeds, Kippax', 'lat': 53.766869, 'lng': -1.370976, 'formatted_address': 'Kippax, UK', 'location_type': 'inside_boundary'}\n",
      "['Armitage Monobond', 'Ilkley Road']\n",
      "Found location inside boundary: {'location_name': 'Leeds, Otley, Armitage Monobond', 'lat': 53.905825, 'lng': -1.691786, 'formatted_address': 'Otley, UK', 'location_type': 'inside_boundary'}\n",
      "Found location inside boundary: {'location_name': 'Leeds, Otley, Ilkley Road', 'lat': 53.9027442, 'lng': -1.7063766, 'formatted_address': 'Ilkley Rd, Otley LS21, UK', 'location_type': 'inside_boundary'}\n",
      "['Rawdon']\n",
      "Found location inside boundary: {'location_name': 'Leeds, Rawdon', 'lat': 53.851907, 'lng': -1.684089, 'formatted_address': 'Rawdon, UK', 'location_type': 'inside_boundary'}\n",
      "[\"I'M Sorry\", \"But There Aren'T Any Specific Geographic Locations Or Physical Places Mentioned In The Text You Provided.\"]\n",
      "Warning: No matching location found within or near boundary for I'M Sorry\n",
      "Found location inside boundary: {'location_name': \"Leeds, Otley, But There Aren'T Any Specific Geographic Locations Or Physical Places Mentioned In The Text You Provided.\", 'lat': 53.905825, 'lng': -1.691786, 'formatted_address': 'Otley, UK', 'location_type': 'inside_boundary'}\n",
      "['St Oswald’S Church', 'Collingham Memorial Hall', 'The Methodist Church', 'The Scout Hut', 'Calsa', 'Hastings Court', 'Elizabeth Court', 'Harewood', 'East Keswick', 'A659', 'A58']\n",
      "Found location inside boundary: {'location_name': 'Leeds, Collingham, St Oswald’S Church', 'lat': 53.9095417, 'lng': -1.4076075, 'formatted_address': 'Church Ln, Collingham, Wetherby LS22 5AU, UK', 'location_type': 'inside_boundary'}\n",
      "Found location inside boundary: {'location_name': 'Leeds, Collingham Memorial Hall', 'lat': 53.9085426, 'lng': -1.4100421, 'formatted_address': 'Collingham Memorial Hall, Main St, Collingham, Leeds LS22 5AS, UK', 'location_type': 'inside_boundary'}\n",
      "Warning: No matching location found within or near boundary for The Methodist Church\n",
      "Found location inside boundary: {'location_name': 'Leeds, Collingham, The Scout Hut', 'lat': 53.908313, 'lng': -1.4098869, 'formatted_address': 'Collingham LS22, UK', 'location_type': 'inside_boundary'}\n",
      "Found location inside boundary: {'location_name': 'Leeds, Collingham, Calsa', 'lat': 53.9079157, 'lng': -1.4154009, 'formatted_address': 'Harewood Rd, Collingham, Wetherby LS22 5BL, UK', 'location_type': 'inside_boundary'}\n",
      "Found location inside boundary: {'location_name': 'Leeds, Collingham, Hastings Court', 'lat': 53.908313, 'lng': -1.4098869, 'formatted_address': 'Collingham LS22, UK', 'location_type': 'inside_boundary'}\n",
      "Found location inside boundary: {'location_name': 'Leeds, Collingham, Elizabeth Court', 'lat': 53.908313, 'lng': -1.4098869, 'formatted_address': 'Collingham LS22, UK', 'location_type': 'inside_boundary'}\n",
      "Found location inside boundary: {'location_name': 'Leeds, Harewood', 'lat': 53.89992489999999, 'lng': -1.5115257, 'formatted_address': 'Harewood, Leeds LS17, UK', 'location_type': 'inside_boundary'}\n",
      "Found location inside boundary: {'location_name': 'Leeds, East Keswick', 'lat': 53.8953733, 'lng': -1.4531012, 'formatted_address': 'East Keswick, Leeds LS17, UK', 'location_type': 'inside_boundary'}\n",
      "Found location inside boundary: {'location_name': 'Leeds, A659', 'lat': 53.9006556, 'lng': -1.4722, 'formatted_address': 'A659, Leeds, UK', 'location_type': 'inside_boundary'}\n",
      "Found location inside boundary: {'location_name': 'Leeds, Collingham, A58', 'lat': 53.9077856, 'lng': -1.4119775, 'formatted_address': 'A58, Collingham, UK', 'location_type': 'inside_boundary'}\n"
     ]
    }
   ],
   "source": [
    "from data_pipeline.geocode_geo_labels.geocode_extract import extract_chunks_for_geocoding, count_chunks_for_geocoding\n",
    "from data_pipeline.geocode_geo_labels.geocode_transform import geocode_row_geo_labels\n",
    "count = count_chunks_for_geocoding()\n",
    "print(\"Total chunks ungeocoded: \" + str(count))\n",
    "\n",
    "records  = extract_chunks_for_geocoding(10)\n",
    "\n",
    "if records is not None:\n",
    "    for index, record in enumerate(records):\n",
    "        print(record['openai_geo_labels'])\n",
    "        geocode_row_geo_labels(record)\n",
    "            \n",
    "else:\n",
    "    print(\"No records found.\")\n",
    "    "
   ]
  }
 ],
 "metadata": {
  "kernelspec": {
   "display_name": "venv",
   "language": "python",
   "name": "python3"
  },
  "language_info": {
   "codemirror_mode": {
    "name": "ipython",
    "version": 3
   },
   "file_extension": ".py",
   "mimetype": "text/x-python",
   "name": "python",
   "nbconvert_exporter": "python",
   "pygments_lexer": "ipython3",
   "version": "3.11.2"
  }
 },
 "nbformat": 4,
 "nbformat_minor": 2
}
