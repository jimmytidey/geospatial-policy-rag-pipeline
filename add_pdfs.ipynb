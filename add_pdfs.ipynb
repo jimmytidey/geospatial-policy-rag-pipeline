{
 "cells": [
  {
   "cell_type": "code",
   "execution_count": 1,
   "metadata": {},
   "outputs": [
    {
     "name": "stdout",
     "output_type": "stream",
     "text": [
      "PDF downloaded and saved as files/pdfs/local_plan_Newham_054d94c01ff839979695adc834909992.pdf.\n",
      "PyMuPDF chunks created: 963 from files/pdfs/local_plan_Newham_054d94c01ff839979695adc834909992.pdf\n",
      "Data successfully saved to files/pymupdf_chunks.csv\n",
      "Creating document with id: 054d94c01ff839979695adc834909992\n",
      "\n",
      "    INSERT INTO documents (\n",
      "        document_id, category, lpa, neighbourhood, title, url, file, \n",
      "        start_year, end_year, council_type, experiment, notes\n",
      "    )\n",
      "    VALUES ('054d94c01ff839979695adc834909992', 'local_plan', 'Newham', '', 'Newham Local Plan', 'https://www.newham.gov.uk/downloads/file/1111/newham-local-plan-2018-pdf-', 'local_plan_Newham_054d94c01ff839979695adc834909992.pdf', 2018, 2033, 'London Borough Council', 'newham', '')\n",
      "    \n",
      "Error: duplicate key value violates unique constraint \"documents_pkey1\"\n",
      "DETAIL:  Key (document_id)=(054d94c01ff839979695adc834909992) already exists.\n",
      "\n"
     ]
    },
    {
     "ename": "UniqueViolation",
     "evalue": "duplicate key value violates unique constraint \"documents_pkey1\"\nDETAIL:  Key (document_id)=(054d94c01ff839979695adc834909992) already exists.\n",
     "output_type": "error",
     "traceback": [
      "\u001b[0;31m---------------------------------------------------------------------------\u001b[0m",
      "\u001b[0;31mUniqueViolation\u001b[0m                           Traceback (most recent call last)",
      "Cell \u001b[0;32mIn[1], line 23\u001b[0m\n\u001b[1;32m      7\u001b[0m metadata \u001b[38;5;241m=\u001b[39m {\n\u001b[1;32m      8\u001b[0m     \u001b[38;5;124m\"\u001b[39m\u001b[38;5;124mcategory\u001b[39m\u001b[38;5;124m\"\u001b[39m: \u001b[38;5;124m\"\u001b[39m\u001b[38;5;124mlocal_plan\u001b[39m\u001b[38;5;124m\"\u001b[39m,\n\u001b[1;32m      9\u001b[0m     \u001b[38;5;124m\"\u001b[39m\u001b[38;5;124msub_category\u001b[39m\u001b[38;5;124m\"\u001b[39m: \u001b[38;5;124m\"\u001b[39m\u001b[38;5;124m\"\u001b[39m,\n\u001b[0;32m   (...)\u001b[0m\n\u001b[1;32m     18\u001b[0m     \u001b[38;5;124m\"\u001b[39m\u001b[38;5;124mnotes\u001b[39m\u001b[38;5;124m\"\u001b[39m:\u001b[38;5;124m\"\u001b[39m\u001b[38;5;124m\"\u001b[39m\n\u001b[1;32m     19\u001b[0m }\n\u001b[1;32m     21\u001b[0m metadata \u001b[38;5;241m=\u001b[39m validate_metadata(metadata)\n\u001b[0;32m---> 23\u001b[0m \u001b[43mchunk_pdf\u001b[49m\u001b[43m(\u001b[49m\u001b[43murl\u001b[49m\u001b[43m,\u001b[49m\u001b[43m \u001b[49m\u001b[43mmetadata\u001b[49m\u001b[43m)\u001b[49m\n",
      "File \u001b[0;32m~/Projects/geospatial-policy-rag-pipeline/helpers.py:53\u001b[0m, in \u001b[0;36mchunk_pdf\u001b[0;34m(url, metadata)\u001b[0m\n\u001b[1;32m     51\u001b[0m pymupdf_chunks \u001b[38;5;241m=\u001b[39m pymupdf_chunk_pdf(file_path, metadata)\n\u001b[1;32m     52\u001b[0m save_chunks_to_csv(pymupdf_chunks, \u001b[38;5;124m\"\u001b[39m\u001b[38;5;124mpymupdf\u001b[39m\u001b[38;5;124m\"\u001b[39m)\n\u001b[0;32m---> 53\u001b[0m \u001b[43mchunks_csv_to_db\u001b[49m\u001b[43m(\u001b[49m\u001b[38;5;124;43m\"\u001b[39;49m\u001b[38;5;124;43mpymupdf\u001b[39;49m\u001b[38;5;124;43m\"\u001b[39;49m\u001b[43m)\u001b[49m\n",
      "File \u001b[0;32m~/Projects/geospatial-policy-rag-pipeline/helpers.py:158\u001b[0m, in \u001b[0;36mchunks_csv_to_db\u001b[0;34m(chunker)\u001b[0m\n\u001b[1;32m    155\u001b[0m df_filled[\u001b[38;5;124m\"\u001b[39m\u001b[38;5;124mend_year\u001b[39m\u001b[38;5;124m\"\u001b[39m] \u001b[38;5;241m=\u001b[39m df_filled[\u001b[38;5;124m\"\u001b[39m\u001b[38;5;124mend_year\u001b[39m\u001b[38;5;124m\"\u001b[39m]\u001b[38;5;241m.\u001b[39mastype(\u001b[38;5;28mint\u001b[39m)\n\u001b[1;32m    157\u001b[0m document_metatdata \u001b[38;5;241m=\u001b[39m df_filled\u001b[38;5;241m.\u001b[39miloc[\u001b[38;5;241m0\u001b[39m]\n\u001b[0;32m--> 158\u001b[0m document_id \u001b[38;5;241m=\u001b[39m \u001b[43mcreate_document\u001b[49m\u001b[43m(\u001b[49m\u001b[43mdocument_metatdata\u001b[49m\u001b[43m)\u001b[49m\n\u001b[1;32m    159\u001b[0m df_filled[\u001b[38;5;124m\"\u001b[39m\u001b[38;5;124mdocument_id\u001b[39m\u001b[38;5;124m\"\u001b[39m] \u001b[38;5;241m=\u001b[39m document_id  \n\u001b[1;32m    160\u001b[0m df_filled[\u001b[38;5;124m\"\u001b[39m\u001b[38;5;124mdocument_id\u001b[39m\u001b[38;5;124m\"\u001b[39m] \u001b[38;5;241m=\u001b[39m df_filled[\u001b[38;5;124m\"\u001b[39m\u001b[38;5;124mdocument_id\u001b[39m\u001b[38;5;124m\"\u001b[39m]\u001b[38;5;241m.\u001b[39mastype(\u001b[38;5;28mstr\u001b[39m)\n",
      "File \u001b[0;32m~/Projects/geospatial-policy-rag-pipeline/helpers.py:219\u001b[0m, in \u001b[0;36mcreate_document\u001b[0;34m(metadata)\u001b[0m\n\u001b[1;32m    216\u001b[0m \u001b[38;5;28mprint\u001b[39m(filled_query)\n\u001b[1;32m    218\u001b[0m \u001b[38;5;66;03m# Execute the query\u001b[39;00m\n\u001b[0;32m--> 219\u001b[0m \u001b[43mpg\u001b[49m\u001b[38;5;241;43m.\u001b[39;49m\u001b[43minsert\u001b[49m\u001b[43m(\u001b[49m\u001b[43minsert_query\u001b[49m\u001b[43m,\u001b[49m\u001b[43m \u001b[49m\u001b[43mvalues\u001b[49m\u001b[43m)\u001b[49m\n\u001b[1;32m    221\u001b[0m \u001b[38;5;66;03m# Check if the document has been  successfully added to the documents table\u001b[39;00m\n\u001b[1;32m    222\u001b[0m result \u001b[38;5;241m=\u001b[39m pg\u001b[38;5;241m.\u001b[39mquery(\u001b[38;5;124m\"\u001b[39m\u001b[38;5;124mSELECT * FROM documents WHERE document_id = \u001b[39m\u001b[38;5;132;01m%s\u001b[39;00m\u001b[38;5;124m\"\u001b[39m, (document_id,))\n",
      "File \u001b[0;32m~/Projects/geospatial-policy-rag-pipeline/postgres.py:36\u001b[0m, in \u001b[0;36mPostgres.insert\u001b[0;34m(self, query, params)\u001b[0m\n\u001b[1;32m     34\u001b[0m \u001b[38;5;28;01mexcept\u001b[39;00m psycopg2\u001b[38;5;241m.\u001b[39mError \u001b[38;5;28;01mas\u001b[39;00m e:\n\u001b[1;32m     35\u001b[0m     \u001b[38;5;28mprint\u001b[39m(\u001b[38;5;124m\"\u001b[39m\u001b[38;5;124mError:\u001b[39m\u001b[38;5;124m\"\u001b[39m, e)\n\u001b[0;32m---> 36\u001b[0m     \u001b[38;5;28;01mraise\u001b[39;00m e\n",
      "File \u001b[0;32m~/Projects/geospatial-policy-rag-pipeline/postgres.py:28\u001b[0m, in \u001b[0;36mPostgres.insert\u001b[0;34m(self, query, params)\u001b[0m\n\u001b[1;32m     26\u001b[0m     cursor\u001b[38;5;241m.\u001b[39mexecute(query)\n\u001b[1;32m     27\u001b[0m \u001b[38;5;28;01melse\u001b[39;00m:\n\u001b[0;32m---> 28\u001b[0m     \u001b[43mcursor\u001b[49m\u001b[38;5;241;43m.\u001b[39;49m\u001b[43mexecute\u001b[49m\u001b[43m(\u001b[49m\u001b[43mquery\u001b[49m\u001b[43m,\u001b[49m\u001b[43m \u001b[49m\u001b[43mparams\u001b[49m\u001b[43m)\u001b[49m\n\u001b[1;32m     30\u001b[0m conn\u001b[38;5;241m.\u001b[39mcommit()\n\u001b[1;32m     31\u001b[0m cursor\u001b[38;5;241m.\u001b[39mclose()\n",
      "\u001b[0;31mUniqueViolation\u001b[0m: duplicate key value violates unique constraint \"documents_pkey1\"\nDETAIL:  Key (document_id)=(054d94c01ff839979695adc834909992) already exists.\n"
     ]
    }
   ],
   "source": [
    "from helpers import chunk_pdf, validate_metadata\n",
    "\n",
    "# Use this notebook to save PDFS to the data base\n",
    "# (PDFs will also be saved to the files/pdfs folder)\n",
    "\n",
    "url = \"https://www.newham.gov.uk/downloads/file/1111/newham-local-plan-2018-pdf-\"\n",
    "metadata = {\n",
    "    \"category\": \"local_plan\",\n",
    "    \"sub_category\": \"\",\n",
    "    \"lpa\": \"Newham\",\n",
    "    \"council_type\": \"London Borough Council\",\n",
    "    \"title\": \"Newham Local Plan\",\n",
    "    \"neighbourhood\": \"\",\n",
    "    \"start_year\": 2018,\n",
    "    \"end_year\": 2033,\n",
    "    \"url\": url,\n",
    "    \"experiment\": \"newham\",\n",
    "    \"notes\":\"\"\n",
    "}\n",
    "\n",
    "metadata = validate_metadata(metadata)\n",
    "\n",
    "chunk_pdf(url, metadata)"
   ]
  }
 ],
 "metadata": {
  "kernelspec": {
   "display_name": "venv",
   "language": "python",
   "name": "python3"
  },
  "language_info": {
   "codemirror_mode": {
    "name": "ipython",
    "version": 3
   },
   "file_extension": ".py",
   "mimetype": "text/x-python",
   "name": "python",
   "nbconvert_exporter": "python",
   "pygments_lexer": "ipython3",
   "version": "3.11.2"
  }
 },
 "nbformat": 4,
 "nbformat_minor": 2
}
