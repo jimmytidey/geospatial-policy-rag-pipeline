{
 "cells": [
  {
   "cell_type": "code",
   "execution_count": 13,
   "metadata": {},
   "outputs": [
    {
     "name": "stdout",
     "output_type": "stream",
     "text": [
      "Number of records without 'openai_geo_labels': 0\n"
     ]
    }
   ],
   "source": [
    "from geo_labels_extract import geo_labels_extract\n",
    "from geo_labels_transform import geo_labels_transform\n",
    "from geo_labels_load import geo_labels_load\n",
    "\n",
    "records  = geo_labels_extract(1000)\n",
    "\n",
    "if records is not None:\n",
    "    \n",
    "    for index, record in enumerate(records):\n",
    "        results = geo_labels_transform(record)\n",
    "        geo_labels_load(record[0], results)\n",
    "        print(\"Record \" + str(index) + \" loaded.\")\n",
    "        \n",
    "        \n",
    "else:\n",
    "    print(\"No records found.\")\n",
    "    \n",
    "\n"
   ]
  }
 ],
 "metadata": {
  "kernelspec": {
   "display_name": "venv",
   "language": "python",
   "name": "python3"
  },
  "language_info": {
   "codemirror_mode": {
    "name": "ipython",
    "version": 3
   },
   "file_extension": ".py",
   "mimetype": "text/x-python",
   "name": "python",
   "nbconvert_exporter": "python",
   "pygments_lexer": "ipython3",
   "version": "3.11.2"
  }
 },
 "nbformat": 4,
 "nbformat_minor": 2
}
