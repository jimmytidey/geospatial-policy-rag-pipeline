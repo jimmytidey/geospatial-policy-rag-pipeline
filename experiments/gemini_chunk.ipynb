{
 "cells": [
  {
   "cell_type": "code",
   "execution_count": null,
   "metadata": {},
   "outputs": [],
   "source": [
    "def gemini_chunk(text):\n",
    "\n",
    "    # Define the message you want to send\n",
    "    message = \"\"\"\n",
    "    You are an expert at examining policy documents and splitting them into chunks. \n",
    "    Discard any chunks that are more than half punctuation.  \n",
    "    Discard any chaunks which are not headings, lists or continuous writing. \n",
    "    Take the following text, break it into semantic chunks of at most 500 words. \n",
    "    Start a new chunk when a new subheading starts.\n",
    "    Ignore page breaks. Please ensure lists do not flow between chunks.\n",
    "    Return an JSON array of objects for each chunk.\n",
    "    Each object should have a field called 'text' with the text of the chunk.  Please remove any special characters or newline characters from this field. \n",
    "    For each chunk, please also a field 'headings', which is an array of all the headings and subheadings this chunk falls under. \n",
    "    please indicate if the chunk inlcudes a specific planning policy, with a boolean field 'policy'.\n",
    "    If the policy seems to be about an explicitly stateed location, or is site specific, mark a boolean field 'site' as true. \n",
    "    Please ensure the JSON output is properly ended and creates valid JSON. \n",
    "    \n",
    "    Make the json machine readable - do not start or end with \"```json\" or \"```\"\n",
    "\n",
    "\n",
    "    Text to chunk:\n",
    "    \"\"\"\n",
    "\n",
    "    message += text\n",
    "\n",
    "    import google.generativeai as genai\n",
    "    import os\n",
    "\n",
    "    genai.configure(api_key=os.environ[\"GOOGLE_API_KEY\"])\n",
    "\n",
    "    model = genai.GenerativeModel(\"gemini-1.5-flash\")\n",
    "    response = model.generate_content(message)\n",
    "    return response.text"
   ]
  }
 ],
 "metadata": {
  "language_info": {
   "name": "python"
  }
 },
 "nbformat": 4,
 "nbformat_minor": 2
}
