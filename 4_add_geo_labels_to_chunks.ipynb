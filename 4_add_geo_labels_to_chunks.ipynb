{
 "cells": [
  {
   "cell_type": "code",
   "execution_count": 3,
   "metadata": {},
   "outputs": [
    {
     "name": "stdout",
     "output_type": "stream",
     "text": [
      "Number of records without 'openai_labels': 0\n"
     ]
    }
   ],
   "source": [
    "from data_pipeline.add_geo_labels.geo_labels_extract import geo_labels_extract, count_records_without_openai_geo_labels\n",
    "from data_pipeline.add_geo_labels.geo_labels_transform import geo_labels_transform\n",
    "from data_pipeline.add_geo_labels.geo_labels_load import geo_labels_load\n",
    "\n",
    "count_records_without_openai_geo_labels()\n",
    "\n",
    "records  = geo_labels_extract(1000)\n",
    "\n",
    "if records is not None:\n",
    "    for index, record in enumerate(records):\n",
    "        geo_labels = geo_labels_transform(record)\n",
    "        print(geo_labels)\n",
    "        geo_labels_load(geo_labels, record['chunk_id'])\n",
    "        #print(\"Record \" + str(index) + \" loaded.\")\n",
    "            \n",
    "else:\n",
    "    print(\"No records found.\")\n",
    "    "
   ]
  }
 ],
 "metadata": {
  "kernelspec": {
   "display_name": "venv",
   "language": "python",
   "name": "python3"
  },
  "language_info": {
   "codemirror_mode": {
    "name": "ipython",
    "version": 3
   },
   "file_extension": ".py",
   "mimetype": "text/x-python",
   "name": "python",
   "nbconvert_exporter": "python",
   "pygments_lexer": "ipython3",
   "version": "3.11.2"
  }
 },
 "nbformat": 4,
 "nbformat_minor": 2
}
